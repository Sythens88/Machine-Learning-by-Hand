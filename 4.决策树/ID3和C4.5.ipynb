{
 "cells": [
  {
   "cell_type": "code",
   "execution_count": 1,
   "metadata": {},
   "outputs": [],
   "source": [
    "import pandas as pd\n",
    "import numpy as np\n",
    "import math"
   ]
  },
  {
   "cell_type": "code",
   "execution_count": 2,
   "metadata": {},
   "outputs": [],
   "source": [
    "data = pd.read_excel('data.xlsx')\n",
    "X = data[['年龄', '有工作', '有自己的房子', '信贷情况']].values\n",
    "Y = data[['类别']].values"
   ]
  },
  {
   "cell_type": "code",
   "execution_count": 3,
   "metadata": {},
   "outputs": [],
   "source": [
    "class DTNode:\n",
    "     \n",
    "    def __init__(self):\n",
    "        self.feature = None\n",
    "        self.value = {}\n",
    "        self.label = None\n",
    "        self.entropy = None\n",
    "        self.subnode = {}"
   ]
  },
  {
   "cell_type": "code",
   "execution_count": 4,
   "metadata": {},
   "outputs": [],
   "source": [
    "class DecisionTree:\n",
    "    \n",
    "    def __init__(self,method,eps):\n",
    "        self.root = None\n",
    "        self.method = method\n",
    "        self.eps = eps\n",
    "        \n",
    "    def compute_entropy(self,value):\n",
    "        value = [v/sum(value) for v in value]\n",
    "        value = [v for v in value if v!=0]\n",
    "        value = [-v*math.log(v) for v in value]\n",
    "        return sum(value)\n",
    "        \n",
    "    def fit(self,X,Y):\n",
    "        self.var_num = X.shape[1]\n",
    "        df = pd.concat([pd.DataFrame(X,columns = ['var'+str(i) for i in range(self.var_num)]),\\\n",
    "                  pd.DataFrame(Y,columns=['y'])],axis=1)\n",
    "        self.root = DTNode()\n",
    "        self.bulid_tree(self.root,df,method=self.method,eps=self.eps)\n",
    "        \n",
    "        \n",
    "    def bulid_tree(self,node,df,method,eps=0):\n",
    "        node.value = dict(df['y'].value_counts())\n",
    "        \n",
    "        ## 均属于一个类\n",
    "        if len(node.value) == 1:\n",
    "            node.label = list(node.value.keys())[0]\n",
    "            node.entropy = 0\n",
    "        ## 无特征\n",
    "        elif df.shape[1] == 1:\n",
    "            node.label = [key for key,value in node.value.items() if value == max(node.value.values())][0]\n",
    "            node.entropy = self.compute_entropy(list(node.value.values()))\n",
    "        \n",
    "        ## 需递归\n",
    "        else:\n",
    "            node.label = [key for key,value in node.value.items() if value == max(node.value.values())][0]\n",
    "            node.entropy = self.compute_entropy(list(node.value.values()))\n",
    "            ### 计算特征的信息增益\n",
    "            var_list = list(df.columns[:-1])\n",
    "            info = {}\n",
    "            if method == 'ID3':\n",
    "                for var in var_list:\n",
    "                    df_tmp = [l[1] for l in list(df[[var,'y']].groupby(var))]\n",
    "                    cond_info = sum([self.compute_entropy(list(d['y'].value_counts()))*len(d)\\\n",
    "                         for d in df_tmp])/len(df)\n",
    "                    info[var] = node.entropy-cond_info\n",
    "            elif method == 'C4.5':\n",
    "                for var in var_list:\n",
    "                    df_tmp = [l[1] for l in list(df[[var,'y']].groupby(var))]\n",
    "                    cond_info = sum([self.compute_entropy(list(d['y'].value_counts()))*len(d)\\\n",
    "                         for d in df_tmp])/len(df)\n",
    "                    info[var] = (node.entropy-cond_info)/ \\\n",
    "                        self.compute_entropy(list(df[var].value_counts()))\n",
    "            ### 选出特征\n",
    "            max_info = max(list(info.values()))\n",
    "            feature = [key for key in info.keys() if info[key]==max_info][0]\n",
    "        \n",
    "            if max_info>=eps:\n",
    "                node.feature = feature\n",
    "                \n",
    "                ### 建立子树\n",
    "                fea_space = list(np.unique(df[feature].values))\n",
    "                new_col = [l for l in list(df.columns) if l!=feature]\n",
    "                for fea in fea_space:\n",
    "                    node.subnode[fea] = DTNode()\n",
    "                    self.bulid_tree(node.subnode[fea],df.loc[df[node.feature]==fea,new_col],\\\n",
    "                                method=method,eps=eps)\n",
    "    \n",
    "    def print_node(self,node,var_dict,layer=0):\n",
    "        if len(node.subnode)==0:\n",
    "            print('|'+'\\t|'*layer+'---类别:'+str(node.label)+',分布:'+str(node.value))\n",
    "        else:\n",
    "            for key,value in node.subnode.items():\n",
    "                print('|'+'\\t|'*layer+'---'+var_dict[node.feature]+':'+str(key))\n",
    "                self.print_node(value,var_dict,layer+1)\n",
    "    \n",
    "    def print_tree(self,col_name=None):\n",
    "        var_name = ['var'+str(i) for i in range(self.var_num)]\n",
    "        if col_name is not None:\n",
    "            var_dict = dict(zip(var_name,col_name))\n",
    "        else:\n",
    "            var_dict = dict(zip(var_name,var_dict))\n",
    "        \n",
    "        self.print_node(self.root,var_dict,layer=0)\n",
    "        \n",
    "    def predict_sample(self,new_X):\n",
    "        node = self.root\n",
    "        while len(node.subnode)!=0:\n",
    "            try:\n",
    "                node = node.subnode[new_X[int(node.feature[3])]]\n",
    "            except:\n",
    "                break\n",
    "        return node.label\n",
    "        \n",
    "    def predict(self,new_X):\n",
    "        return np.apply_along_axis(self.predict_sample,axis=1,arr=new_X)\n",
    "    \n",
    "    def cut_node(self,node,alpha):\n",
    "        subnode_entropy = sum([sum(n.value.values())*n.entropy for n in node.subnode.values()])\n",
    "        if subnode_entropy!=0:\n",
    "            for subnode in node.subnode.values():\n",
    "                if subnode.entropy!=0:\n",
    "                    self.cut_node(subnode,alpha)\n",
    "        \n",
    "        subnode_entropy = sum([sum(n.value.values())*n.entropy for n in node.subnode.values()])\n",
    "        if subnode_entropy!=0:\n",
    "            delta = sum(node.value.values())*node.entropy-subnode_entropy\n",
    "            if delta<=alpha*(len(node.subnode)-1):\n",
    "                node.subnode={}\n",
    "                node.feature = None\n",
    "            \n",
    "    def prun(self,alpha):\n",
    "        self.cut_node(self.root,alpha)"
   ]
  },
  {
   "cell_type": "markdown",
   "metadata": {},
   "source": [
    "# Generate"
   ]
  },
  {
   "cell_type": "code",
   "execution_count": 5,
   "metadata": {},
   "outputs": [],
   "source": [
    "clf = DecisionTree(method='ID3',eps=0)\n",
    "clf.fit(X,Y)"
   ]
  },
  {
   "cell_type": "markdown",
   "metadata": {},
   "source": [
    "# Visualize"
   ]
  },
  {
   "cell_type": "code",
   "execution_count": 6,
   "metadata": {
    "scrolled": true
   },
   "outputs": [
    {
     "name": "stdout",
     "output_type": "stream",
     "text": [
      "|---有自己的房子:否\n",
      "|\t|---有工作:否\n",
      "|\t|\t|---类别:0,分布:{0: 6}\n",
      "|\t|---有工作:是\n",
      "|\t|\t|---类别:1,分布:{1: 3}\n",
      "|---有自己的房子:是\n",
      "|\t|---类别:1,分布:{1: 6}\n"
     ]
    }
   ],
   "source": [
    "clf.print_tree(col_name=list(data.columns[:-1]))"
   ]
  },
  {
   "cell_type": "markdown",
   "metadata": {},
   "source": [
    "# Prediction"
   ]
  },
  {
   "cell_type": "code",
   "execution_count": 7,
   "metadata": {},
   "outputs": [
    {
     "data": {
      "text/plain": [
       "array([1, 0])"
      ]
     },
     "execution_count": 7,
     "metadata": {},
     "output_type": "execute_result"
    }
   ],
   "source": [
    "new_X = np.array([['中年', '是', '否', '好'],\\\n",
    "                  ['青年', '否', '否', '非常好']])\n",
    "clf.predict(new_X)"
   ]
  },
  {
   "cell_type": "markdown",
   "metadata": {},
   "source": [
    "# Pruning"
   ]
  },
  {
   "cell_type": "code",
   "execution_count": 8,
   "metadata": {},
   "outputs": [
    {
     "name": "stdout",
     "output_type": "stream",
     "text": [
      "|---类别:1,分布:{1: 9, 0: 6}\n"
     ]
    }
   ],
   "source": [
    "clf.prun(alpha=5)\n",
    "clf.print_tree(col_name=list(data.columns[:-1]))"
   ]
  }
 ],
 "metadata": {
  "kernelspec": {
   "display_name": "Python 3",
   "language": "python",
   "name": "python3"
  },
  "language_info": {
   "codemirror_mode": {
    "name": "ipython",
    "version": 3
   },
   "file_extension": ".py",
   "mimetype": "text/x-python",
   "name": "python",
   "nbconvert_exporter": "python",
   "pygments_lexer": "ipython3",
   "version": "3.8.5"
  }
 },
 "nbformat": 4,
 "nbformat_minor": 4
}
