{
 "cells": [
  {
   "cell_type": "code",
   "execution_count": 1,
   "metadata": {},
   "outputs": [],
   "source": [
    "import numpy as np\n",
    "X = np.array([[2,0,0,0],[0,2,0,0],[0,0,1,0],[0,0,2,3],[0,0,0,1],[1,2,2,1]])"
   ]
  },
  {
   "cell_type": "code",
   "execution_count": 2,
   "metadata": {},
   "outputs": [],
   "source": [
    "class LSA:\n",
    "    \n",
    "    def __init__(self,topic_num=2):\n",
    "        self.topic_num = topic_num\n",
    "        \n",
    "    def fit(self,X):\n",
    "        U,Sigma,V = np.linalg.svd(X)\n",
    "        T,Y = U[:,:self.topic_num],(np.diag(Sigma).dot(V))[:self.topic_num,:]\n",
    "        self.components = Y\n",
    "        self.topic_vector = T\n",
    "        \n",
    "    def fit_transfrom(self,X):\n",
    "        return self.topic_vector"
   ]
  },
  {
   "cell_type": "code",
   "execution_count": 3,
   "metadata": {},
   "outputs": [],
   "source": [
    "clf = LSA(topic_num=2)\n",
    "clf.fit(X)"
   ]
  },
  {
   "cell_type": "code",
   "execution_count": 4,
   "metadata": {},
   "outputs": [
    {
     "name": "stdout",
     "output_type": "stream",
     "text": [
      "[[-0.07843687 -0.28442303]\n",
      " [-0.15687373 -0.56884607]\n",
      " [-0.14262235  0.01379304]\n",
      " [-0.72880467  0.55349991]\n",
      " [-0.14785332  0.17530461]\n",
      " [-0.6291902  -0.50816689]]\n"
     ]
    }
   ],
   "source": [
    "print(clf.fit_transfrom(X))"
   ]
  },
  {
   "cell_type": "code",
   "execution_count": 5,
   "metadata": {},
   "outputs": [
    {
     "name": "stdout",
     "output_type": "stream",
     "text": [
      "[[-0.78606393 -1.57212786 -2.85861209 -2.96345752]\n",
      " [-1.07701296 -2.15402591  0.10445908  1.32763745]]\n"
     ]
    }
   ],
   "source": [
    "print(clf.components)"
   ]
  }
 ],
 "metadata": {
  "kernelspec": {
   "display_name": "Python 3",
   "language": "python",
   "name": "python3"
  },
  "language_info": {
   "codemirror_mode": {
    "name": "ipython",
    "version": 3
   },
   "file_extension": ".py",
   "mimetype": "text/x-python",
   "name": "python",
   "nbconvert_exporter": "python",
   "pygments_lexer": "ipython3",
   "version": "3.8.5"
  }
 },
 "nbformat": 4,
 "nbformat_minor": 4
}
