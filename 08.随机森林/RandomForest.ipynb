{
 "cells": [
  {
   "cell_type": "code",
   "execution_count": 1,
   "metadata": {},
   "outputs": [],
   "source": [
    "import pandas as pd\n",
    "import numpy as np\n",
    "from utils import ClassificationTree\n",
    "\n",
    "data = pd.read_csv('glass.csv')\n",
    "X = data.iloc[:,:-1].values\n",
    "Y = data.iloc[:,-1].values"
   ]
  },
  {
   "cell_type": "code",
   "execution_count": 2,
   "metadata": {},
   "outputs": [],
   "source": [
    "class RandomForest:\n",
    "    \n",
    "    def __init__(self,n_estimators=100,subsample=1,colsample=1,\\\n",
    "                 max_depth=float('inf'),min_samples_leaf=1):\n",
    "        self.n_estimators = n_estimators\n",
    "        self.subsample = subsample\n",
    "        self.colsample = colsample\n",
    "        self.max_depth = max_depth\n",
    "        self.min_samples_leaf = min_samples_leaf\n",
    "        \n",
    "    def fit(self,X,Y):\n",
    "        self.clf_list = []\n",
    "        for m in range(self.n_estimators):\n",
    "            idx = np.random.permutation([i for i in range(len(Y))])\n",
    "            idx = list(idx)[:round(self.subsample*len(Y))]\n",
    "            X_m, Y_m = X[idx,:],Y[idx]\n",
    "            clf = ClassificationTree(max_depth=self.max_depth,min_samples_leaf=self.min_samples_leaf)\n",
    "            clf.fit(X_m,Y_m,col_num=round(X.shape[1]*self.colsample))\n",
    "            self.clf_list.append(clf)\n",
    "            \n",
    "    def find_most_frequent(self,x):\n",
    "        return np.bincount(list(x)).argmax()\n",
    "    \n",
    "    def predict(self,new_X):\n",
    "        out = np.concatenate([clf.predict(new_X) for clf in self.clf_list],axis=1)\n",
    "        return np.apply_along_axis(self.find_most_frequent,axis=1,arr=out)"
   ]
  },
  {
   "cell_type": "code",
   "execution_count": 3,
   "metadata": {},
   "outputs": [
    {
     "name": "stdout",
     "output_type": "stream",
     "text": [
      "基分类器个数： 1 准确率： 0.944\n",
      "基分类器个数： 2 准确率： 0.967\n",
      "基分类器个数： 3 准确率： 0.977\n",
      "基分类器个数： 4 准确率： 0.972\n",
      "基分类器个数： 5 准确率： 0.991\n",
      "基分类器个数： 6 准确率： 1.0\n",
      "基分类器个数： 7 准确率： 0.995\n",
      "基分类器个数： 8 准确率： 0.981\n",
      "基分类器个数： 9 准确率： 1.0\n"
     ]
    }
   ],
   "source": [
    "clf = [RandomForest(n_estimators=i) for i in range(1,10)]\n",
    "for c in clf:\n",
    "    c.fit(X,Y)\n",
    "    print('基分类器个数：',c.n_estimators,'准确率：',round(np.sum(c.predict(X)==Y.reshape(-1))/len(Y),3))"
   ]
  }
 ],
 "metadata": {
  "kernelspec": {
   "display_name": "Python 3",
   "language": "python",
   "name": "python3"
  },
  "language_info": {
   "codemirror_mode": {
    "name": "ipython",
    "version": 3
   },
   "file_extension": ".py",
   "mimetype": "text/x-python",
   "name": "python",
   "nbconvert_exporter": "python",
   "pygments_lexer": "ipython3",
   "version": "3.8.5"
  }
 },
 "nbformat": 4,
 "nbformat_minor": 4
}
