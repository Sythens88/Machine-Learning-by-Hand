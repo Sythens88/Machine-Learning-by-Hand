{
 "cells": [
  {
   "cell_type": "code",
   "execution_count": 1,
   "metadata": {},
   "outputs": [],
   "source": [
    "import numpy as np\n",
    "M = np.array([[0,1/2,0,0],\n",
    "              [1/3,0,0,1/2],\n",
    "              [1/3,0,1,1/2],\n",
    "              [1/3,1/2,0,0]])"
   ]
  },
  {
   "cell_type": "markdown",
   "metadata": {},
   "source": [
    "# Iteration Method"
   ]
  },
  {
   "cell_type": "code",
   "execution_count": 2,
   "metadata": {},
   "outputs": [],
   "source": [
    "class IterPageRank:\n",
    "    \n",
    "    def __init__(self,d=0.8,init=None):\n",
    "        self.d = d\n",
    "        self.init = init\n",
    "        \n",
    "    def fit(self,M):\n",
    "        n = M.shape[0]\n",
    "        if self.init is None:\n",
    "            r = np.ones((n,1))/n\n",
    "        else:\n",
    "            r = self.init\n",
    "        \n",
    "        err = 1\n",
    "        while err>1e-3:\n",
    "            r_new = self.d*M.dot(r)+(1-self.d)/n*np.ones((n,1))\n",
    "            err = np.mean(np.abs(r_new-r))\n",
    "            r = r_new\n",
    "        \n",
    "        self.pr = r"
   ]
  },
  {
   "cell_type": "code",
   "execution_count": 3,
   "metadata": {},
   "outputs": [
    {
     "name": "stdout",
     "output_type": "stream",
     "text": [
      "[[0.10180032]\n",
      " [0.12903271]\n",
      " [0.64013426]\n",
      " [0.12903271]]\n"
     ]
    }
   ],
   "source": [
    "clf = IterPageRank()\n",
    "clf.fit(M)\n",
    "print(clf.pr)"
   ]
  },
  {
   "cell_type": "markdown",
   "metadata": {},
   "source": [
    "# Power Method"
   ]
  },
  {
   "cell_type": "code",
   "execution_count": 4,
   "metadata": {},
   "outputs": [],
   "source": [
    "class PowerPageRank:\n",
    "    \n",
    "    def __init__(self,d=0.8,init=None):\n",
    "        self.d = d\n",
    "        self.init = init\n",
    "        \n",
    "    def fit(self,M):\n",
    "        n = M.shape[0]\n",
    "        if self.init is None:\n",
    "            r = np.ones((n,1))/n\n",
    "        else:\n",
    "            r = self.init\n",
    "        A = self.d*M+(1-self.d)/n*np.ones((n,1))\n",
    "        \n",
    "        err = 1\n",
    "        while err>1e-3:\n",
    "            r_new = A.dot(r)\n",
    "            r_new = r_new/np.max(r_new)\n",
    "            err = np.mean(np.abs(r_new-r))\n",
    "            r = r_new\n",
    "        \n",
    "        self.pr = r/np.sum(r)"
   ]
  },
  {
   "cell_type": "code",
   "execution_count": 5,
   "metadata": {},
   "outputs": [
    {
     "name": "stdout",
     "output_type": "stream",
     "text": [
      "[[0.10180032]\n",
      " [0.12903271]\n",
      " [0.64013426]\n",
      " [0.12903271]]\n"
     ]
    }
   ],
   "source": [
    "clf = PowerPageRank()\n",
    "clf.fit(M)\n",
    "print(clf.pr)"
   ]
  }
 ],
 "metadata": {
  "kernelspec": {
   "display_name": "Python 3",
   "language": "python",
   "name": "python3"
  },
  "language_info": {
   "codemirror_mode": {
    "name": "ipython",
    "version": 3
   },
   "file_extension": ".py",
   "mimetype": "text/x-python",
   "name": "python",
   "nbconvert_exporter": "python",
   "pygments_lexer": "ipython3",
   "version": "3.8.5"
  }
 },
 "nbformat": 4,
 "nbformat_minor": 4
}
