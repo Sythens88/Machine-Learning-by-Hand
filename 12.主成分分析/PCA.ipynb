{
 "cells": [
  {
   "cell_type": "code",
   "execution_count": 1,
   "metadata": {},
   "outputs": [],
   "source": [
    "import numpy as np\n",
    "from sklearn import datasets\n",
    "X = datasets.load_iris()['data']"
   ]
  },
  {
   "cell_type": "code",
   "execution_count": 2,
   "metadata": {},
   "outputs": [],
   "source": [
    "class Pca:\n",
    "    \n",
    "    def __init__(self,n_components=1,standard=True):\n",
    "        self.n_components = n_components\n",
    "        self.standard = standard\n",
    "        \n",
    "    def fit(self,X):\n",
    "        if self.standard:\n",
    "            covx = np.corrcoef(X.T)\n",
    "        else:\n",
    "            covx = np.cov(X.T)\n",
    "        u,v = np.linalg.eig(covx)\n",
    "        self.variance = u\n",
    "        self.variance_ratio = u/np.sum(u)\n",
    "        self.trans = v\n",
    "        \n",
    "    def fit_transform(self,X):\n",
    "        return X.dot(self.trans[:,:self.n_components])\n",
    "        "
   ]
  },
  {
   "cell_type": "code",
   "execution_count": 3,
   "metadata": {},
   "outputs": [
    {
     "name": "stdout",
     "output_type": "stream",
     "text": [
      "[0.92461872 0.97768521 0.99478782 1.        ]\n"
     ]
    }
   ],
   "source": [
    "clf = Pca(n_components=2,standard=False)\n",
    "clf.fit(X)\n",
    "print(np.cumsum(clf.variance_ratio))"
   ]
  },
  {
   "cell_type": "code",
   "execution_count": 4,
   "metadata": {},
   "outputs": [],
   "source": [
    "Y = clf.fit_transform(X)"
   ]
  }
 ],
 "metadata": {
  "kernelspec": {
   "display_name": "Python 3",
   "language": "python",
   "name": "python3"
  },
  "language_info": {
   "codemirror_mode": {
    "name": "ipython",
    "version": 3
   },
   "file_extension": ".py",
   "mimetype": "text/x-python",
   "name": "python",
   "nbconvert_exporter": "python",
   "pygments_lexer": "ipython3",
   "version": "3.8.5"
  }
 },
 "nbformat": 4,
 "nbformat_minor": 4
}
