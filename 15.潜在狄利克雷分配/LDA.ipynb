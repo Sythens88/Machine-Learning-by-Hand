{
 "cells": [
  {
   "cell_type": "code",
   "execution_count": 1,
   "metadata": {},
   "outputs": [],
   "source": [
    "from sklearn.datasets import make_multilabel_classification\n",
    "X, _ = make_multilabel_classification(random_state=0)"
   ]
  },
  {
   "cell_type": "code",
   "execution_count": 2,
   "metadata": {},
   "outputs": [],
   "source": [
    "import numpy as np\n",
    "\n",
    "class GibbsLDA:\n",
    "    \n",
    "    def __init__(self,K,alpha=None,beta=None,sim_time=1000):\n",
    "        self.K = K\n",
    "        self.alpha = alpha\n",
    "        self.beta = beta\n",
    "        self.sim_time = sim_time\n",
    "        \n",
    "    def fit(self,X):\n",
    "        M,N = X.shape\n",
    "        V = len(np.unique(X.reshape(-1)))\n",
    "        K = self.K\n",
    "        \n",
    "        N_kv = np.zeros((K,V))\n",
    "        N_mk = np.zeros((M,K))\n",
    "        if self.alpha is None:\n",
    "            alpha = [1 for _ in range(K)]\n",
    "        else:\n",
    "            alpha = self.alpha\n",
    "        if self.beta is None:\n",
    "            beta = [1 for _ in range(V)]\n",
    "        else:\n",
    "            beta = self.beta\n",
    "        \n",
    "        topic_mat = np.zeros((M,N))\n",
    "        for m in range(M):\n",
    "            for n in range(N):\n",
    "                word = X[m,n]\n",
    "                topic = int(K*np.random.random())\n",
    "                topic_mat[m,n] = topic\n",
    "                N_mk[m,topic] += 1\n",
    "                N_kv[topic,int(word)] +=1 \n",
    "                \n",
    "        for _ in range(self.sim_time):\n",
    "            for m in range(M):\n",
    "                for n in range(N):\n",
    "                    word = X[m,n]\n",
    "                    topic = int(topic_mat[m,n])\n",
    "                    N_mk[m,topic] -= 1\n",
    "                    N_kv[topic,int(word)] -= 1\n",
    "        \n",
    "                    prob = (N_kv[:,int(word)]+beta[int(word)])/(np.sum(N_kv+beta,axis=1))\\\n",
    "                          *(N_mk[m,:]+alpha[topic])\n",
    "                    prob = list(prob/np.sum(prob))\n",
    "                    topic = list(np.random.multinomial(1,prob)).index(1)\n",
    "                    \n",
    "                    topic_mat[m,n] = topic\n",
    "                    N_mk[m,topic] += 1\n",
    "                    N_kv[topic,int(word)] += 1        \n",
    "                \n",
    "        theta = N_mk+alpha\n",
    "        self.theta = theta/np.sum(theta,1).reshape(-1,1)\n",
    "        phi = N_kv+beta\n",
    "        self.phi = phi/np.sum(phi,1).reshape(-1,1)\n",
    "        \n",
    "        \n",
    "    def transform(self):\n",
    "        return self.theta"
   ]
  },
  {
   "cell_type": "code",
   "execution_count": 3,
   "metadata": {},
   "outputs": [],
   "source": [
    "clf = GibbsLDA(K=5,sim_time=1000)\n",
    "clf.fit(X)"
   ]
  },
  {
   "cell_type": "code",
   "execution_count": 4,
   "metadata": {},
   "outputs": [
    {
     "data": {
      "text/plain": [
       "array([[0.04, 0.16, 0.16, 0.48, 0.16],\n",
       "       [0.44, 0.08, 0.2 , 0.16, 0.12]])"
      ]
     },
     "execution_count": 4,
     "metadata": {},
     "output_type": "execute_result"
    }
   ],
   "source": [
    "clf.transform()[-2:]"
   ]
  }
 ],
 "metadata": {
  "kernelspec": {
   "display_name": "Python 3",
   "language": "python",
   "name": "python3"
  },
  "language_info": {
   "codemirror_mode": {
    "name": "ipython",
    "version": 3
   },
   "file_extension": ".py",
   "mimetype": "text/x-python",
   "name": "python",
   "nbconvert_exporter": "python",
   "pygments_lexer": "ipython3",
   "version": "3.8.5"
  }
 },
 "nbformat": 4,
 "nbformat_minor": 4
}
