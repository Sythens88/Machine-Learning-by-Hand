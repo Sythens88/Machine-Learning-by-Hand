{
 "cells": [
  {
   "cell_type": "code",
   "execution_count": 1,
   "metadata": {},
   "outputs": [],
   "source": [
    "import numpy as np\n",
    "from CART import RegressionTree\n",
    "\n",
    "X = np.array([i+1 for i in range(10)]).reshape(-1,1)\n",
    "Y = np.array([5.56,5.70,5.91,6.40,6.80,7.05,8.90,8.70,9.00,9.05]).reshape(-1,1)"
   ]
  },
  {
   "cell_type": "code",
   "execution_count": 2,
   "metadata": {},
   "outputs": [],
   "source": [
    "class BoostingTree:\n",
    "    \n",
    "    def __init__(self,n_estimators=10,max_depth=1):\n",
    "        self.n_estimators = n_estimators\n",
    "        self.max_depth = max_depth\n",
    "        \n",
    "    def fit(self,X,Y):\n",
    "        self.clf_list = []\n",
    "        for m in range(self.n_estimators):\n",
    "            clf = RegressionTree(max_depth = self.max_depth)\n",
    "            clf.fit(X,Y)\n",
    "            self.clf_list.append(clf)\n",
    "            Y = Y-clf.predict(X)\n",
    "            \n",
    "    def predict(self,new_X):\n",
    "        return np.sum(np.array([clf.predict(new_X) for clf in self.clf_list]),axis=0)"
   ]
  },
  {
   "cell_type": "code",
   "execution_count": 3,
   "metadata": {},
   "outputs": [
    {
     "name": "stdout",
     "output_type": "stream",
     "text": [
      "基分类器个数： 1 MSE： 1.93\n",
      "基分类器个数： 2 MSE： 0.801\n",
      "基分类器个数： 3 MSE： 0.478\n",
      "基分类器个数： 4 MSE： 0.306\n",
      "基分类器个数： 5 MSE： 0.229\n",
      "基分类器个数： 6 MSE： 0.172\n"
     ]
    }
   ],
   "source": [
    "clf = [BoostingTree(n_estimators=i+1,max_depth=1) for i in range(6)]\n",
    "for c in clf:\n",
    "    c.fit(X,Y)\n",
    "    \n",
    "for c in clf:\n",
    "    print('基分类器个数：',clf.index(c)+1,'MSE：',round(np.sum((c.predict(X)-Y)**2),3))"
   ]
  }
 ],
 "metadata": {
  "kernelspec": {
   "display_name": "Python 3",
   "language": "python",
   "name": "python3"
  },
  "language_info": {
   "codemirror_mode": {
    "name": "ipython",
    "version": 3
   },
   "file_extension": ".py",
   "mimetype": "text/x-python",
   "name": "python",
   "nbconvert_exporter": "python",
   "pygments_lexer": "ipython3",
   "version": "3.8.5"
  }
 },
 "nbformat": 4,
 "nbformat_minor": 4
}
