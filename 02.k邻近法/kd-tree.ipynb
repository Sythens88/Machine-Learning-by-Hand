{
 "cells": [
  {
   "cell_type": "code",
   "execution_count": 1,
   "metadata": {},
   "outputs": [],
   "source": [
    "import numpy as np\n",
    "import math\n",
    "X = np.array([[2,3],[5,4],[9,6],[4,7],[8,1],[7,2]])\n",
    "Y = np.array([i for i in range(6)]).reshape(-1,1)"
   ]
  },
  {
   "cell_type": "code",
   "execution_count": 2,
   "metadata": {},
   "outputs": [],
   "source": [
    "class kdNode:\n",
    "    def __init__(self):\n",
    "        self.value = None\n",
    "        self.idx = None\n",
    "        self.father = None\n",
    "        self.left = None\n",
    "        self.right = None"
   ]
  },
  {
   "cell_type": "code",
   "execution_count": 3,
   "metadata": {},
   "outputs": [],
   "source": [
    "class kdTree:\n",
    "    def __init__(self,data):\n",
    "        self.tree = kdNode()\n",
    "        make_tree(self.tree,data,-1)"
   ]
  },
  {
   "cell_type": "markdown",
   "metadata": {},
   "source": [
    "# Generate"
   ]
  },
  {
   "cell_type": "code",
   "execution_count": 4,
   "metadata": {},
   "outputs": [],
   "source": [
    "def make_tree(node,data,idx):\n",
    "    if len(data)>1:\n",
    "        N,k = data.shape\n",
    "        ## 寻找切分坐标轴和切分点\n",
    "        idx = (idx+1)%k\n",
    "        median = sorted(data[:,idx])[math.floor(N/2)]\n",
    "        ## 从数据中找到切分实例\n",
    "        median_id = list(data[:,idx]).index(median)\n",
    "        value = data[median_id,:]\n",
    "        ## 储存\n",
    "        node.value = value\n",
    "        node.idx = idx\n",
    "        ## 切分剩余数据集\n",
    "        data = np.delete(data,median_id,axis=0)\n",
    "        left_data = data[data[:,idx]<median,:]\n",
    "        right_data = data[data[:,idx]>=median,:]\n",
    "        ## 递归左边和右边\n",
    "        if len(left_data)!=0:\n",
    "            node.left = kdNode()\n",
    "            node.left.father = node\n",
    "            make_tree(node.left,left_data,idx)\n",
    "        if len(right_data)!=0:\n",
    "            node.right = kdNode()\n",
    "            node.right.father = node\n",
    "            make_tree(node.right,right_data,idx)\n",
    "    else:\n",
    "        node.value = data[0]"
   ]
  },
  {
   "cell_type": "code",
   "execution_count": 5,
   "metadata": {},
   "outputs": [],
   "source": [
    "tree = kdTree(X)"
   ]
  },
  {
   "cell_type": "markdown",
   "metadata": {},
   "source": [
    "# Visualize"
   ]
  },
  {
   "cell_type": "code",
   "execution_count": 6,
   "metadata": {},
   "outputs": [
    {
     "name": "stdout",
     "output_type": "stream",
     "text": [
      " [7 2]\n",
      "\t [5 4]\n",
      "\t\t [2 3]\n",
      "\t\t [4 7]\n",
      "\t [9 6]\n",
      "\t\t [8 1]\n"
     ]
    }
   ],
   "source": [
    "def print_tree(tree,layer):\n",
    "    print('\\t'*layer,tree.value)\n",
    "    if tree.left is not None:\n",
    "        print_tree(tree.left,layer+1)\n",
    "    if tree.right is not None:\n",
    "        print_tree(tree.right,layer+1)\n",
    "\n",
    "print_tree(tree.tree,0)"
   ]
  },
  {
   "cell_type": "markdown",
   "metadata": {},
   "source": [
    "# Find Nearest Neighbor"
   ]
  },
  {
   "cell_type": "code",
   "execution_count": 7,
   "metadata": {},
   "outputs": [],
   "source": [
    "def L2_dist(x,y):\n",
    "    return np.sqrt(np.sum((x-y)**2))\n",
    "\n",
    "def FindBrother(node):\n",
    "    if node.father.left is node:\n",
    "        return node.father.right\n",
    "    if node.father.right is node:\n",
    "        return node.father.left \n",
    "\n",
    "def kdFind(node,x):\n",
    "    ## 寻找叶节点\n",
    "    while node.idx is not None:\n",
    "        if x[node.idx]<node.value[node.idx]:\n",
    "            if node.left is not None:\n",
    "                node = node.left\n",
    "            else:\n",
    "                break\n",
    "        else:\n",
    "            if node.right is not None:\n",
    "                node = node.right\n",
    "            else:\n",
    "                break\n",
    "    ## 保存当前最近点\n",
    "    nearest = node.value\n",
    "    ## 不断向上回退直至根节点\n",
    "    while node is not None and node.father is not None:\n",
    "        ## 比较距离\n",
    "        if L2_dist(node.value,x)<L2_dist(nearest,x):\n",
    "            nearest = node.value\n",
    "        ## 是否与兄弟节点相交\n",
    "        dist = np.abs((node.value-x)[node.father.idx])\n",
    "        r = L2_dist(nearest,x)\n",
    "        ## 判断兄弟节点中有无更近的点\n",
    "        if r>dist:\n",
    "            try:\n",
    "                parent_node = FindBrother(node)\n",
    "                parent_node.father = None\n",
    "                tmp = kdFind(parent_node,x)\n",
    "                ## 存在，改动当前最近点\n",
    "                if L2_dist(tmp,x)<L2_dist(nearest,x):\n",
    "                    nearest = tmp\n",
    "                ## 不存在，继续向上递归\n",
    "                else:\n",
    "                    node = node.father\n",
    "                    continue\n",
    "            except:\n",
    "                pass\n",
    "        node = node.father\n",
    "    return nearest"
   ]
  },
  {
   "cell_type": "code",
   "execution_count": 8,
   "metadata": {},
   "outputs": [
    {
     "data": {
      "text/plain": [
       "array([2, 3])"
      ]
     },
     "execution_count": 8,
     "metadata": {},
     "output_type": "execute_result"
    }
   ],
   "source": [
    "kdFind(tree.tree,np.array([3,4.5]))"
   ]
  }
 ],
 "metadata": {
  "kernelspec": {
   "display_name": "Python 3",
   "language": "python",
   "name": "python3"
  },
  "language_info": {
   "codemirror_mode": {
    "name": "ipython",
    "version": 3
   },
   "file_extension": ".py",
   "mimetype": "text/x-python",
   "name": "python",
   "nbconvert_exporter": "python",
   "pygments_lexer": "ipython3",
   "version": "3.8.5"
  }
 },
 "nbformat": 4,
 "nbformat_minor": 4
}
