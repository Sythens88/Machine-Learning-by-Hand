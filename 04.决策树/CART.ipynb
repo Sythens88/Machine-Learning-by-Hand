{
 "cells": [
  {
   "cell_type": "code",
   "execution_count": 1,
   "metadata": {},
   "outputs": [],
   "source": [
    "import numpy as np\n",
    "import pandas as pd"
   ]
  },
  {
   "cell_type": "code",
   "execution_count": 2,
   "metadata": {
    "scrolled": true
   },
   "outputs": [
    {
     "data": {
      "text/html": [
       "<div>\n",
       "<style scoped>\n",
       "    .dataframe tbody tr th:only-of-type {\n",
       "        vertical-align: middle;\n",
       "    }\n",
       "\n",
       "    .dataframe tbody tr th {\n",
       "        vertical-align: top;\n",
       "    }\n",
       "\n",
       "    .dataframe thead th {\n",
       "        text-align: right;\n",
       "    }\n",
       "</style>\n",
       "<table border=\"1\" class=\"dataframe\">\n",
       "  <thead>\n",
       "    <tr style=\"text-align: right;\">\n",
       "      <th></th>\n",
       "      <th>type</th>\n",
       "      <th>price</th>\n",
       "      <th>mpg_city</th>\n",
       "      <th>passengers</th>\n",
       "      <th>weight</th>\n",
       "    </tr>\n",
       "  </thead>\n",
       "  <tbody>\n",
       "    <tr>\n",
       "      <th>0</th>\n",
       "      <td>0</td>\n",
       "      <td>15.9</td>\n",
       "      <td>25</td>\n",
       "      <td>5</td>\n",
       "      <td>2705</td>\n",
       "    </tr>\n",
       "    <tr>\n",
       "      <th>1</th>\n",
       "      <td>1</td>\n",
       "      <td>33.9</td>\n",
       "      <td>18</td>\n",
       "      <td>5</td>\n",
       "      <td>3560</td>\n",
       "    </tr>\n",
       "    <tr>\n",
       "      <th>2</th>\n",
       "      <td>1</td>\n",
       "      <td>37.7</td>\n",
       "      <td>19</td>\n",
       "      <td>6</td>\n",
       "      <td>3405</td>\n",
       "    </tr>\n",
       "    <tr>\n",
       "      <th>3</th>\n",
       "      <td>1</td>\n",
       "      <td>30.0</td>\n",
       "      <td>22</td>\n",
       "      <td>4</td>\n",
       "      <td>3640</td>\n",
       "    </tr>\n",
       "    <tr>\n",
       "      <th>4</th>\n",
       "      <td>1</td>\n",
       "      <td>15.7</td>\n",
       "      <td>22</td>\n",
       "      <td>6</td>\n",
       "      <td>2880</td>\n",
       "    </tr>\n",
       "  </tbody>\n",
       "</table>\n",
       "</div>"
      ],
      "text/plain": [
       "   type  price  mpg_city  passengers  weight\n",
       "0     0   15.9        25           5    2705\n",
       "1     1   33.9        18           5    3560\n",
       "2     1   37.7        19           6    3405\n",
       "3     1   30.0        22           4    3640\n",
       "4     1   15.7        22           6    2880"
      ]
     },
     "execution_count": 2,
     "metadata": {},
     "output_type": "execute_result"
    }
   ],
   "source": [
    "data = pd.read_csv('cars.csv')\n",
    "data['type'] = data['type'].apply(lambda x:{'small':0,'midsize':1,'large':2}[x])\n",
    "data.head()"
   ]
  },
  {
   "cell_type": "code",
   "execution_count": 3,
   "metadata": {},
   "outputs": [],
   "source": [
    "X = data[['type', 'price', 'mpg_city', 'passengers']].values\n",
    "Y = data[['weight']].values"
   ]
  },
  {
   "cell_type": "markdown",
   "metadata": {},
   "source": [
    "# Least Square Regression Tree"
   ]
  },
  {
   "cell_type": "code",
   "execution_count": 4,
   "metadata": {},
   "outputs": [],
   "source": [
    "class CARTNode:\n",
    "    \n",
    "    def __init__(self):\n",
    "        self.cut_var = None\n",
    "        self.cut_point = None\n",
    "        self.avg = None\n",
    "        self.depth = None\n",
    "        self.num = None\n",
    "        self.left = None\n",
    "        self.right = None"
   ]
  },
  {
   "cell_type": "code",
   "execution_count": 5,
   "metadata": {},
   "outputs": [],
   "source": [
    "class RegressionTree:\n",
    "    \n",
    "    def __init__(self,max_depth=float('inf'),min_samples_leaf=1):\n",
    "        self.max_depth = max_depth\n",
    "        self.min_samples_leaf = min_samples_leaf\n",
    "    \n",
    "    def compute_loss(self,df_var,df_y,s):\n",
    "        df = pd.concat([df_var,df_y],axis=1)\n",
    "        df.columns = ['x','y']\n",
    "        df_1 = df[df['x']<=s]\n",
    "        df_2 = df[df['x']>s]\n",
    "        c_1 = np.mean(df_1['y'])\n",
    "        c_2 = np.mean(df_2['y'])\n",
    "        loss = np.sum((df_1['y']-c_1).values**2)+np.sum((df_2['y']-c_2).values**2)\n",
    "        return loss\n",
    "    \n",
    "    def fit(self,X,Y):\n",
    "        self.var_num = X.shape[1]\n",
    "        df = pd.concat([pd.DataFrame(X,columns = ['var'+str(i) for i in range(self.var_num)]),\\\n",
    "            pd.DataFrame(Y,columns = ['y'])],axis=1)\n",
    "        self.root = CARTNode()\n",
    "        self.build_tree(self.root,df)\n",
    "    \n",
    "    def build_tree(self,node,df,depth=0):\n",
    "        node.avg = np.mean(df['y'])\n",
    "        node.num = len(df)\n",
    "        node.depth = depth\n",
    "        \n",
    "        if node.depth < self.max_depth and node.num > self.min_samples_leaf:\n",
    "        \n",
    "            ## 寻找切分变量和切分点\n",
    "            cut = []\n",
    "            for j in range(self.var_num):\n",
    "                s_list = sorted(np.unique(df['var'+str(j)]))[:-1]\n",
    "                for s in s_list:\n",
    "                    loss = self.compute_loss(df[['var'+str(j)]],df[['y']],s)\n",
    "                    cut.append([[j,s],loss])\n",
    "        \n",
    "            loss = [c[1] for c in cut]\n",
    "            min_loss = min(loss)\n",
    "            cut_var, cut_point = [c[0] for c in cut][loss.index(min_loss)]\n",
    "        \n",
    "            node.cut_var = 'var'+str(cut_var)\n",
    "            node.cut_point = cut_point\n",
    "        \n",
    "            ## 递归\n",
    "            node.left = CARTNode()\n",
    "            self.build_tree(node.left,df[df[node.cut_var]<=node.cut_point],depth+1)\n",
    "            node.right = CARTNode()\n",
    "            self.build_tree(node.right,df[df[node.cut_var]>node.cut_point],depth+1)\n",
    "            \n",
    "    def print_node(self,node,var_dict,layer=0):\n",
    "        if node.left is None and node.right is None:\n",
    "            print('|'+'\\t|'*layer+'---输出:'+str(round(node.avg,3))+',样本个数:'+str(node.num))\n",
    "        \n",
    "        if node.left is not None:\n",
    "            print('|'+'\\t|'*layer+'---'+var_dict[node.cut_var]+'<='+str(node.cut_point))\n",
    "            self.print_node(node.left,var_dict,layer+1)\n",
    "            \n",
    "        if node.right is not None:\n",
    "            print('|'+'\\t|'*layer+'---'+var_dict[node.cut_var]+'>'+str(node.cut_point))\n",
    "            self.print_node(node.right,var_dict,layer+1)\n",
    "        \n",
    "\n",
    "    def print_tree(self,col_name=None):\n",
    "        var_name = ['var'+str(i) for i in range(self.var_num)]\n",
    "        if col_name is not None:\n",
    "            var_dict = dict(zip(var_name,col_name))\n",
    "        else:\n",
    "            var_dict = dict(zip(var_name,var_dict))\n",
    "        \n",
    "        self.print_node(self.root,var_dict,layer=0)\n",
    "        "
   ]
  },
  {
   "cell_type": "code",
   "execution_count": 6,
   "metadata": {},
   "outputs": [],
   "source": [
    "clf = RegressionTree(max_depth=4,min_samples_leaf=5)\n",
    "clf.fit(X,Y)"
   ]
  },
  {
   "cell_type": "code",
   "execution_count": 7,
   "metadata": {},
   "outputs": [
    {
     "name": "stdout",
     "output_type": "stream",
     "text": [
      "|---type<=0.0\n",
      "|\t|---mpg_city<=29.0\n",
      "|\t|\t|---price<=9.2\n",
      "|\t|\t|\t|---输出:2295.0,样本个数:4\n",
      "|\t|\t|---price>9.2\n",
      "|\t|\t|\t|---mpg_city<=25.0\n",
      "|\t|\t|\t|\t|---输出:2603.0,样本个数:5\n",
      "|\t|\t|\t|---mpg_city>25.0\n",
      "|\t|\t|\t|\t|---输出:2414.0,样本个数:5\n",
      "|\t|---mpg_city>29.0\n",
      "|\t|\t|---price<=8.6\n",
      "|\t|\t|\t|---输出:1887.5,样本个数:4\n",
      "|\t|\t|---price>8.6\n",
      "|\t|\t|\t|---输出:2251.667,样本个数:3\n",
      "|---type>0.0\n",
      "|\t|---mpg_city<=18.0\n",
      "|\t|\t|---price<=35.2\n",
      "|\t|\t|\t|---price<=23.7\n",
      "|\t|\t|\t|\t|---输出:3988.333,样本个数:3\n",
      "|\t|\t|\t|---price>23.7\n",
      "|\t|\t|\t|\t|---输出:3605.0,样本个数:6\n",
      "|\t|\t|---price>35.2\n",
      "|\t|\t|\t|---输出:3996.667,样本个数:3\n",
      "|\t|---mpg_city>18.0\n",
      "|\t|\t|---price<=18.2\n",
      "|\t|\t|\t|---mpg_city<=19.0\n",
      "|\t|\t|\t|\t|---输出:3610.0,样本个数:1\n",
      "|\t|\t|\t|---mpg_city>19.0\n",
      "|\t|\t|\t|\t|---输出:2993.333,样本个数:6\n",
      "|\t|\t|---price>18.2\n",
      "|\t|\t|\t|---price<=26.7\n",
      "|\t|\t|\t|\t|---输出:3415.5,样本个数:10\n",
      "|\t|\t|\t|---price>26.7\n",
      "|\t|\t|\t|\t|---输出:3535.0,样本个数:4\n"
     ]
    }
   ],
   "source": [
    "clf.print_tree(col_name=list(data.columns[:-1]))"
   ]
  }
 ],
 "metadata": {
  "kernelspec": {
   "display_name": "Python 3",
   "language": "python",
   "name": "python3"
  },
  "language_info": {
   "codemirror_mode": {
    "name": "ipython",
    "version": 3
   },
   "file_extension": ".py",
   "mimetype": "text/x-python",
   "name": "python",
   "nbconvert_exporter": "python",
   "pygments_lexer": "ipython3",
   "version": "3.8.5"
  }
 },
 "nbformat": 4,
 "nbformat_minor": 4
}
