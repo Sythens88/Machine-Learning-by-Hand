{
 "cells": [
  {
   "cell_type": "code",
   "execution_count": 1,
   "metadata": {},
   "outputs": [],
   "source": [
    "import numpy as np\n",
    "import pandas as pd\n",
    "X = np.array([[1,'S'],[1,'M'],[1,'M'],[1,'S'],[1,'S'],\\\n",
    "              [2,'S'],[2,'M'],[2,'M'],[2,'L'],[2,'L'],\\\n",
    "              [3,'L'],[3,'M'],[3,'M'],[3,'L'],[3,'L']])\n",
    "Y = np.array([-1,-1,1,1,-1,-1,-1,1,1,1,1,1,1,1,-1]).reshape(-1,1)"
   ]
  },
  {
   "cell_type": "code",
   "execution_count": 2,
   "metadata": {},
   "outputs": [],
   "source": [
    "class NaiveBayes:\n",
    "    def __init__(self,lam=1):\n",
    "        self.lam = lam\n",
    "    \n",
    "    def fit(self,X,Y):\n",
    "        data = pd.concat([pd.DataFrame(X,columns=[str(i) for i in range(X.shape[1])]),\\\n",
    "        pd.DataFrame(Y,columns=['Y'])],axis=1)\n",
    "        ## 计算先验概率\n",
    "        self.piror = dict(data['Y'].value_counts())\n",
    "        self.K = len(self.piror)\n",
    "        ## 计算条件概率\n",
    "        self.S = {}\n",
    "        self.CondProb = {}\n",
    "        for col in data.columns[:-1]:\n",
    "            tmp = data[[col,'Y']]\n",
    "            tmp = tmp.groupby([col,'Y']).agg({'Y':'count'})\n",
    "            tmp.columns=['count']\n",
    "            tmp = tmp.reset_index()\n",
    "            self.CondProb[col] = tmp\n",
    "            self.S[col] = len(tmp[col].value_counts())\n",
    "            \n",
    "    def predict(self,new_X):\n",
    "        posterior = []\n",
    "        for k in self.piror.keys():\n",
    "            piror = (self.piror[k]+self.lam)/(sum(self.piror.values())+self.lam*self.K)\n",
    "            for i in range(new_X.shape[1]):\n",
    "                S = self.S[str(i)]\n",
    "                cond = self.CondProb[str(i)]\n",
    "                count = cond.loc[(cond[str(i)]==new_X[0,i])&(cond['Y']==k),['count']]\n",
    "                count = (count.values[0,0]+self.lam)/(self.piror[k]+S*self.lam)\n",
    "                piror *= count\n",
    "            posterior.append(piror)\n",
    "        posterior = [round(p/sum(posterior),2) for p in posterior]\n",
    "        return dict(zip(self.piror.keys(),posterior))"
   ]
  },
  {
   "cell_type": "markdown",
   "metadata": {},
   "source": [
    "# Generate and Predict"
   ]
  },
  {
   "cell_type": "code",
   "execution_count": 3,
   "metadata": {},
   "outputs": [
    {
     "data": {
      "text/plain": [
       "{1: 0.25, -1: 0.75}"
      ]
     },
     "execution_count": 3,
     "metadata": {},
     "output_type": "execute_result"
    }
   ],
   "source": [
    "clf = NaiveBayes(lam=0)\n",
    "clf.fit(X,Y)\n",
    "clf.predict(np.array([[2,'S']]))"
   ]
  }
 ],
 "metadata": {
  "kernelspec": {
   "display_name": "Python 3",
   "language": "python",
   "name": "python3"
  },
  "language_info": {
   "codemirror_mode": {
    "name": "ipython",
    "version": 3
   },
   "file_extension": ".py",
   "mimetype": "text/x-python",
   "name": "python",
   "nbconvert_exporter": "python",
   "pygments_lexer": "ipython3",
   "version": "3.8.5"
  }
 },
 "nbformat": 4,
 "nbformat_minor": 4
}
