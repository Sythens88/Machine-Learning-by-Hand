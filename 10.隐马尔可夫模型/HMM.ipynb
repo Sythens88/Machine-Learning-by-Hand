{
 "cells": [
  {
   "cell_type": "code",
   "execution_count": 1,
   "metadata": {},
   "outputs": [],
   "source": [
    "import numpy as np\n",
    "from hmmlearn.hmm import MultinomialHMM\n",
    "\n",
    "np.random.seed(12345)\n",
    "model = MultinomialHMM(n_components=3)\n",
    "model.startprob_ = np.array([0.2, 0.4, 0.4])\n",
    "model.transmat_ = np.array([[0.5, 0.2, 0.3],\n",
    "                            [0.3, 0.5, 0.2],\n",
    "                            [0.2, 0.3, 0.5]])\n",
    "model.emissionprob_ = np.array([[0.5, 0.5], \n",
    "                                [0.4, 0.6], \n",
    "                                [0.7, 0.3]])\n",
    "X, Z = model.sample(10)"
   ]
  },
  {
   "cell_type": "code",
   "execution_count": 2,
   "metadata": {},
   "outputs": [],
   "source": [
    "class HiddenMarkovModel:\n",
    "    \n",
    "    def __init__(self,n_components=1,max_iter=100,\\\n",
    "                 pi=None,A=None,B=None):\n",
    "        self.n_components = n_components\n",
    "        self.max_iter = max_iter\n",
    "        self.pi = pi\n",
    "        self.A = A\n",
    "        self.B = B\n",
    "        \n",
    "    def compute_alpha(self,X):\n",
    "        T = len(X)\n",
    "        alpha = np.zeros((T,self.n_components))\n",
    "        for i in range(T):\n",
    "            if i==0:\n",
    "                alpha[i,:] = self.pi*self.B[:,X[i]].reshape(-1)\n",
    "            else:\n",
    "                alpha[i,:] = np.sum(self.A.T*alpha[i-1,:],1)*self.B[:,X[i]].reshape(-1)\n",
    "        return alpha\n",
    "    \n",
    "    def compute_beta(self,X):\n",
    "        T = len(X)\n",
    "        beta = np.ones((T,self.n_components))\n",
    "        for i in range(T-1,0,-1):\n",
    "            beta[i-1,:] = np.sum(self.A*self.B[:,X[i]].reshape(1,-1)*beta[i,:],0)\n",
    "        return beta   \n",
    "    \n",
    "    def compute_gamma(self):\n",
    "        return self.alpha*self.beta/np.sum(self.alpha*self.beta,1).reshape(-1,1)\n",
    "    \n",
    "    def compute_xi(self,X):\n",
    "        T,N = self.alpha.shape\n",
    "        xi = np.zeros((T-1,N,N))\n",
    "        for t in range(0,T-1):\n",
    "            for i in range(0,N):\n",
    "                for j in range(0,N):\n",
    "                    xi[t,i,j] = self.alpha[t,i]*self.A[i,j]*self.B[j,X[t+1]]*self.beta[t+1,j]\n",
    "        return xi/np.sum(np.sum(xi,2),1).reshape(-1,1,1)\n",
    "        \n",
    "    def fit(self,X):\n",
    "        N,K,T = self.n_components,len(np.unique(X)),len(X)\n",
    "        \n",
    "        self.pi = np.array([np.random.random() for _ in range(N)])\n",
    "        self.pi = self.pi/np.sum(self.pi)\n",
    "        \n",
    "        self.A = np.array([np.random.random() for _ in range(N*N)]).reshape(N,N)\n",
    "        self.A = self.A/np.sum(self.A,1).reshape(-1,1)\n",
    "        \n",
    "        self.B = np.array([np.random.random() for _ in range(N*K)]).reshape(N,K)\n",
    "        self.B = self.B/np.sum(self.B,1).reshape(-1,1)\n",
    "\n",
    "        \n",
    "        self.alpha = np.zeros((T,N))\n",
    "        self.beta = np.ones((T,N))\n",
    "        self.xi = np.zeros((T-1,N,N))\n",
    "        \n",
    "        for _ in range(self.max_iter):\n",
    "            self.alpha = self.compute_alpha(X)\n",
    "            self.beta = self.compute_beta(X)\n",
    "            self.gamma = self.compute_gamma()\n",
    "            self.xi = self.compute_xi(X)\n",
    "            \n",
    "            self.A = np.sum(self.xi,axis=0).reshape(N,N)/np.sum(self.gamma[:-1,:],axis=0)\n",
    "            self.B = np.concatenate([(np.sum((X==i)*self.gamma,0)/np.sum(self.gamma,0)).\\\n",
    "                    reshape(N,1) for i in range(K)],1)\n",
    "            self.pi = self.gamma[0,:].reshape(-1)\n",
    "            \n",
    "    def approx(self,O):\n",
    "        alpha = self.compute_alpha(O)\n",
    "        beta = self.compute_beta(O)\n",
    "        gamma = alpha*beta/np.sum(alpha*beta,1).reshape(-1,1)\n",
    "        return np.argmax(gamma,1)\n",
    "    \n",
    "    def viterbi(self,O):\n",
    "        T,N = len(O),self.n_components\n",
    "        delta = np.zeros((T,N))\n",
    "        psi = np.zeros((T,N))\n",
    "        for t in range(T):\n",
    "            if t==0:\n",
    "                delta[t,:] = self.pi*self.B[:,O[t]].reshape(-1)\n",
    "            else:\n",
    "                delta[t,:] = np.max(self.A*delta[t-1,:],1)*self.B[:,O[t]].reshape(-1)\n",
    "                psi[t,:] = np.argmax(self.A*delta[t-1,:],1)\n",
    "        path = []\n",
    "        max_prob = np.max(delta[-1,:])\n",
    "        path.append(np.argmax(delta,1)[-1])\n",
    "        for t in range(T-1,0,-1):\n",
    "            path.append(int(psi[t,int(path[-1])]))\n",
    "        return np.array(path[::-1])     "
   ]
  },
  {
   "cell_type": "code",
   "execution_count": 3,
   "metadata": {},
   "outputs": [],
   "source": [
    "clf = HiddenMarkovModel(n_components=3)\n",
    "clf.pi = np.array([0.2, 0.4, 0.4])\n",
    "clf.A = np.array([[0.5, 0.2, 0.3],\n",
    "                  [0.3, 0.5, 0.2],\n",
    "                  [0.2, 0.3, 0.5]])\n",
    "clf.B = np.array([[0.5, 0.5], \n",
    "                  [0.4, 0.6], \n",
    "                  [0.7, 0.3]])"
   ]
  },
  {
   "cell_type": "code",
   "execution_count": 4,
   "metadata": {},
   "outputs": [
    {
     "name": "stdout",
     "output_type": "stream",
     "text": [
      "状态序列: [2 0 1 2 2 2 0 0 2 2] \n",
      "近似算法估计: [1 1 1 1 1 1 1 1 1 1] \n",
      "维特比算法估计: [2 2 2 2 2 1 1 1 1 1]\n"
     ]
    }
   ],
   "source": [
    "print('状态序列:',Z,'\\n近似算法估计:',clf.approx(X),'\\n维特比算法估计:',clf.viterbi(X))"
   ]
  }
 ],
 "metadata": {
  "kernelspec": {
   "display_name": "Python 3",
   "language": "python",
   "name": "python3"
  },
  "language_info": {
   "codemirror_mode": {
    "name": "ipython",
    "version": 3
   },
   "file_extension": ".py",
   "mimetype": "text/x-python",
   "name": "python",
   "nbconvert_exporter": "python",
   "pygments_lexer": "ipython3",
   "version": "3.8.5"
  }
 },
 "nbformat": 4,
 "nbformat_minor": 4
}
