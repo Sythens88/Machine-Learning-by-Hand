{
 "cells": [
  {
   "cell_type": "code",
   "execution_count": 1,
   "metadata": {},
   "outputs": [],
   "source": [
    "import numpy as np\n",
    "\n",
    "X = np.array([[0,0,1,1,0,0,0,0,0],\n",
    "              [0,0,0,0,0,1,0,0,1],\n",
    "              [0,1,0,0,0,0,0,1,0],\n",
    "              [0,0,0,0,0,0,1,0,1],\n",
    "              [1,0,0,0,0,1,0,0,0],\n",
    "              [1,1,1,1,1,1,1,1,1],\n",
    "              [1,0,1,0,0,0,0,0,0],\n",
    "              [0,0,0,0,0,0,1,0,1],\n",
    "              [0,0,0,0,0,2,0,0,1],\n",
    "              [1,0,1,0,0,0,0,1,0],\n",
    "              [0,0,0,1,1,0,0,0,0]])"
   ]
  },
  {
   "cell_type": "code",
   "execution_count": 2,
   "metadata": {},
   "outputs": [],
   "source": [
    "class PLSA:\n",
    "    \n",
    "    def __init__(self,n_components=1):\n",
    "        self.n_components = n_components\n",
    "        \n",
    "    def fit(self,X):\n",
    "        M,N = X.shape\n",
    "        K = self.n_components\n",
    "          \n",
    "        ## initialization\n",
    "        wz = np.random.random((M,K))\n",
    "        zd = np.random.random((K,N))\n",
    "        wz = wz/np.sum(wz,0).reshape(1,-1)\n",
    "        zd = zd/np.sum(zd,0).reshape(1,-1)\n",
    "        \n",
    "        error = 1\n",
    "        while error>1e-3:\n",
    "            ## calculate P(z|w,d)\n",
    "            zwd = np.array([zd[:,i].reshape(-1)*wz for i in range(zd.shape[1])])\n",
    "            zwd = zwd/np.sum(zwd,2).reshape(N,M,1)\n",
    "            ## update P(w|z) and P(z|d)\n",
    "            zwd = zwd*X.T.reshape(N,M,1)\n",
    "            wz_new = np.sum(zwd,axis=0)\n",
    "            wz_new = wz_new/np.sum(wz_new,0).reshape(1,-1)\n",
    "            zd_new = np.sum(zwd,axis=1).T\n",
    "            zd_new = zd_new/np.sum(zd_new,0).reshape(1,-1)\n",
    "        \n",
    "            error = np.mean(np.abs(zd_new-zd))+np.mean(np.abs(wz_new-wz))\n",
    "            wz,zd = wz_new,zd_new\n",
    "            \n",
    "        self.wz = wz\n",
    "        self.zd = zd"
   ]
  },
  {
   "cell_type": "code",
   "execution_count": 3,
   "metadata": {},
   "outputs": [],
   "source": [
    "clf = PLSA(n_components=4)\n",
    "clf.fit(X)"
   ]
  },
  {
   "cell_type": "code",
   "execution_count": 4,
   "metadata": {},
   "outputs": [
    {
     "name": "stdout",
     "output_type": "stream",
     "text": [
      "[[0.    0.154 0.    0.   ]\n",
      " [0.    0.    0.266 0.011]\n",
      " [0.398 0.    0.    0.   ]\n",
      " [0.    0.    0.    0.35 ]\n",
      " [0.    0.077 0.137 0.   ]\n",
      " [0.4   0.307 0.184 0.29 ]\n",
      " [0.    0.154 0.    0.   ]\n",
      " [0.    0.    0.    0.35 ]\n",
      " [0.    0.    0.412 0.   ]\n",
      " [0.201 0.153 0.    0.   ]\n",
      " [0.    0.154 0.    0.   ]]\n"
     ]
    }
   ],
   "source": [
    "print(np.around(clf.wz,3))"
   ]
  },
  {
   "cell_type": "code",
   "execution_count": 5,
   "metadata": {},
   "outputs": [
    {
     "name": "stdout",
     "output_type": "stream",
     "text": [
      "[[0.    1.    0.004 0.    0.    0.    0.    1.    0.   ]\n",
      " [1.    0.    0.996 1.    1.    0.    0.    0.    0.   ]\n",
      " [0.    0.    0.    0.    0.    1.    0.    0.    0.456]\n",
      " [0.    0.    0.    0.    0.    0.    1.    0.    0.544]]\n"
     ]
    }
   ],
   "source": [
    "print(np.around(clf.zd,3))"
   ]
  }
 ],
 "metadata": {
  "kernelspec": {
   "display_name": "Python 3",
   "language": "python",
   "name": "python3"
  },
  "language_info": {
   "codemirror_mode": {
    "name": "ipython",
    "version": 3
   },
   "file_extension": ".py",
   "mimetype": "text/x-python",
   "name": "python",
   "nbconvert_exporter": "python",
   "pygments_lexer": "ipython3",
   "version": "3.8.5"
  }
 },
 "nbformat": 4,
 "nbformat_minor": 4
}
