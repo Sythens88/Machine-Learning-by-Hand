{
 "cells": [
  {
   "cell_type": "code",
   "execution_count": 1,
   "metadata": {},
   "outputs": [],
   "source": [
    "import numpy as np\n",
    "X = np.array([-67,-48,6,8,14,16,23,24,28,29,41,49,56,60,75]).reshape(-1,1)"
   ]
  },
  {
   "cell_type": "code",
   "execution_count": 2,
   "metadata": {},
   "outputs": [],
   "source": [
    "import math\n",
    "import random\n",
    "\n",
    "class GaussianMixture:\n",
    "    \n",
    "    def __init__(self,n_components,esp=1e-3):\n",
    "        self.n_components = n_components\n",
    "        self.esp = esp\n",
    "        \n",
    "    def gaussian(self,x,mu,sigma):\n",
    "        return 1/math.sqrt(2*math.pi*sigma)*math.exp(-(x-mu)**2/(2*sigma))\n",
    "    \n",
    "        \n",
    "    def fit(self,X):\n",
    "        self.alpha = np.array([1/self.n_components for _ in range(self.n_components)])\n",
    "        self.mean = np.array(random.sample(list(X),2)).reshape(-1,1)\n",
    "        self.sigma = np.array([np.var(X).reshape(1,1)/self.n_components for _ in range(self.n_components)])    \n",
    "        err = self.esp+1\n",
    "        \n",
    "        while err>self.esp:\n",
    "            mean = self.mean\n",
    "            sigma = self.sigma\n",
    "            alpha = self.alpha\n",
    "        \n",
    "            ## compute gamma\n",
    "            gamma = []\n",
    "            for k in range(self.n_components):\n",
    "                for j in range(len(X)):\n",
    "                    gamma.append(self.gaussian(X[j,:],self.mean[k],self.sigma[k]))\n",
    "            gamma = np.array(gamma).reshape(self.n_components,-1)\n",
    "            gamma = gamma/np.sum(gamma,axis=0)\n",
    "        \n",
    "            ## compute mu,sigma,alpha\n",
    "            self.mean = np.array([np.sum(gamma[k,:].reshape(-1,1)*X)/np.sum(gamma[k,:]) for k in range(self.n_components)])\n",
    "            self.sigma = np.array([(np.sum(gamma[k,:].reshape(-1,1)*(X-self.mean[k])**2)\\\n",
    "                                    /np.sum(gamma[k,:]))\\\n",
    "                                    for k in range(self.n_components)])\n",
    "            self.alpha = (np.sum(gamma,axis=1)/X.shape[0]).reshape(-1)\n",
    "            \n",
    "            err = np.mean(np.abs(mean-self.mean))+np.mean(np.abs(sigma-self.sigma))+\\\n",
    "                    np.mean(np.abs(alpha-self.alpha))       "
   ]
  },
  {
   "cell_type": "code",
   "execution_count": 3,
   "metadata": {},
   "outputs": [
    {
     "name": "stdout",
     "output_type": "stream",
     "text": [
      "权重： [0.86669097 0.13330903] \n",
      "平均值：\n",
      " [ 32.99771897 -57.50167052] \n",
      "方差：\n",
      " [428.48138525  90.24999966]\n"
     ]
    }
   ],
   "source": [
    "random.seed(15)\n",
    "clf = GaussianMixture(2)\n",
    "clf.fit(X)\n",
    "print('权重：',clf.alpha,'\\n平均值：\\n',clf.mean,'\\n方差：\\n',clf.sigma)"
   ]
  },
  {
   "cell_type": "code",
   "execution_count": 4,
   "metadata": {},
   "outputs": [
    {
     "name": "stdout",
     "output_type": "stream",
     "text": [
      "权重： [0.4532828 0.5467172] \n",
      "平均值：\n",
      " [ 6.61029534 32.80855304] \n",
      "方差：\n",
      " [2127.19989767  357.31428709]\n"
     ]
    }
   ],
   "source": [
    "random.seed(25)\n",
    "clf = GaussianMixture(2)\n",
    "clf.fit(X)\n",
    "print('权重：',clf.alpha,'\\n平均值：\\n',clf.mean,'\\n方差：\\n',clf.sigma)"
   ]
  }
 ],
 "metadata": {
  "kernelspec": {
   "display_name": "Python 3",
   "language": "python",
   "name": "python3"
  },
  "language_info": {
   "codemirror_mode": {
    "name": "ipython",
    "version": 3
   },
   "file_extension": ".py",
   "mimetype": "text/x-python",
   "name": "python",
   "nbconvert_exporter": "python",
   "pygments_lexer": "ipython3",
   "version": "3.8.5"
  }
 },
 "nbformat": 4,
 "nbformat_minor": 4
}
