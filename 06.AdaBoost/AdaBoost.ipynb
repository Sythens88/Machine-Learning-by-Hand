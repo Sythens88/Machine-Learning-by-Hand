{
 "cells": [
  {
   "cell_type": "code",
   "execution_count": 1,
   "metadata": {},
   "outputs": [],
   "source": [
    "import numpy as np\n",
    "import pandas as pd\n",
    "from sklearn.tree import DecisionTreeClassifier"
   ]
  },
  {
   "cell_type": "code",
   "execution_count": 2,
   "metadata": {},
   "outputs": [],
   "source": [
    "X = np.array([i for i in range(10)]).reshape(-1,1)\n",
    "Y = np.array([1,1,1,-1,-1,-1,1,1,1,-1]).reshape(-1,1)"
   ]
  },
  {
   "cell_type": "code",
   "execution_count": 3,
   "metadata": {},
   "outputs": [],
   "source": [
    "class AdaBoost:\n",
    "    \n",
    "    def __init__(self,n_estimators=10):\n",
    "        self.n_estimators = n_estimators\n",
    "        \n",
    "    def fit(self,X,Y):\n",
    "        self.clf_list = []\n",
    "        self.alpha_list = []\n",
    "        \n",
    "        weight = [1/len(Y) for _ in range(len(Y))]\n",
    "        df = pd.concat([pd.DataFrame(X),pd.DataFrame(Y,columns=['y']),\\\n",
    "                        pd.DataFrame({'weight':weight})],axis=1)\n",
    "        \n",
    "        for m in range(self.n_estimators):\n",
    "            X = df.iloc[:,:-2].values\n",
    "            Y = df.iloc[:,-2].values\n",
    "            weight = df.iloc[:,-1].values.reshape(-1)\n",
    "            \n",
    "            clf = DecisionTreeClassifier(max_depth=1)\n",
    "            clf.fit(X,Y,sample_weight = weight)\n",
    "            \n",
    "            df['predict'] = list(clf.predict(X))\n",
    "            err = np.sum(df['predict']!=df['y'])/len(df)\n",
    "            alpha = np.log((1-err)/err)/2\n",
    "            \n",
    "            df['weight'] = df['weight']*np.exp(-alpha*df['y']*df['predict'])\n",
    "            df['weight'] = df['weight']/np.sum(df['weight'])\n",
    "            del df['predict']\n",
    "            \n",
    "            self.clf_list.append(clf)\n",
    "            self.alpha_list.append(alpha)\n",
    "            \n",
    "    def predict(self,new_X):\n",
    "        tmp = np.array([clf.predict(new_X) for clf in self.clf_list])\n",
    "        tmp = tmp*np.array(self.alpha_list).reshape(-1,1)\n",
    "        return np.sign(np.sum(tmp,axis=0))\n",
    "  "
   ]
  },
  {
   "cell_type": "code",
   "execution_count": 4,
   "metadata": {},
   "outputs": [
    {
     "name": "stdout",
     "output_type": "stream",
     "text": [
      "基分类器个数： 1 准确率： 0.7\n",
      "基分类器个数： 2 准确率： 0.4\n",
      "基分类器个数： 3 准确率： 1.0\n",
      "基分类器个数： 4 准确率： 0.7\n",
      "基分类器个数： 5 准确率： 0.7\n",
      "基分类器个数： 6 准确率： 1.0\n",
      "基分类器个数： 7 准确率： 1.0\n",
      "基分类器个数： 8 准确率： 1.0\n",
      "基分类器个数： 9 准确率： 1.0\n",
      "基分类器个数： 10 准确率： 1.0\n"
     ]
    }
   ],
   "source": [
    "clf = [AdaBoost(n_estimators=i+1) for i in range(10)]\n",
    "for c in clf:\n",
    "    c.fit(X,Y)\n",
    "    print('基分类器个数：',clf.index(c)+1,'准确率：',np.sum(c.predict(X)==Y.reshape(-1))/len(Y))"
   ]
  }
 ],
 "metadata": {
  "kernelspec": {
   "display_name": "Python 3",
   "language": "python",
   "name": "python3"
  },
  "language_info": {
   "codemirror_mode": {
    "name": "ipython",
    "version": 3
   },
   "file_extension": ".py",
   "mimetype": "text/x-python",
   "name": "python",
   "nbconvert_exporter": "python",
   "pygments_lexer": "ipython3",
   "version": "3.8.5"
  }
 },
 "nbformat": 4,
 "nbformat_minor": 4
}
