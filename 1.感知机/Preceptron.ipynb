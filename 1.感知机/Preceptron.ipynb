{
 "cells": [
  {
   "cell_type": "code",
   "execution_count": 1,
   "metadata": {},
   "outputs": [],
   "source": [
    "import numpy as np\n",
    "X = np.array([[3,3],[4,3],[1,1]])\n",
    "Y = np.array([1,1,-1]).reshape(-1,1)"
   ]
  },
  {
   "cell_type": "markdown",
   "metadata": {},
   "source": [
    "# Primal Problem "
   ]
  },
  {
   "cell_type": "code",
   "execution_count": 2,
   "metadata": {},
   "outputs": [],
   "source": [
    "def Perceptron(X,Y,eta=1):\n",
    "    N,dim = X.shape\n",
    "    w,b = np.zeros(dim),0\n",
    "    it = 0\n",
    "    point = 0\n",
    "    while it<N:\n",
    "        if (np.sum(X[point,:]*w)+b)*Y[point,:]<=0:\n",
    "            w = w+eta*Y[point,:]*X[point,:]\n",
    "            b = b+eta*Y[point,:]\n",
    "            it = 0\n",
    "        else:\n",
    "            it += 1\n",
    "        point = (point+1)%N\n",
    "    return w,b"
   ]
  },
  {
   "cell_type": "code",
   "execution_count": 3,
   "metadata": {},
   "outputs": [
    {
     "data": {
      "text/plain": [
       "(array([1., 1.]), array([-3]))"
      ]
     },
     "execution_count": 3,
     "metadata": {},
     "output_type": "execute_result"
    }
   ],
   "source": [
    "Perceptron(X,Y,eta=1)"
   ]
  },
  {
   "cell_type": "markdown",
   "metadata": {},
   "source": [
    "# Dual Problem"
   ]
  },
  {
   "cell_type": "code",
   "execution_count": 4,
   "metadata": {},
   "outputs": [],
   "source": [
    "def Perceptron_dual(X,Y,eta=1):\n",
    "    N,_ = X.shape\n",
    "    alpha,b = np.zeros(N),0\n",
    "    G = X.dot(X.T)\n",
    "    it = 0\n",
    "    point = 0\n",
    "    while it<N:\n",
    "        if (np.sum(alpha*G[point,:]*Y.reshape(-1))+b)*Y[point,:]<=0:\n",
    "            alpha[point] = alpha[point]+eta\n",
    "            b = b+eta*Y[point,:]\n",
    "            it = 0\n",
    "        else:\n",
    "            it += 1\n",
    "        point = (point+1)%N  \n",
    "    return alpha,b"
   ]
  },
  {
   "cell_type": "code",
   "execution_count": 5,
   "metadata": {},
   "outputs": [
    {
     "data": {
      "text/plain": [
       "(array([2., 0., 5.]), array([-3]))"
      ]
     },
     "execution_count": 5,
     "metadata": {},
     "output_type": "execute_result"
    }
   ],
   "source": [
    "Perceptron_dual(X,Y,eta=1)"
   ]
  }
 ],
 "metadata": {
  "kernelspec": {
   "display_name": "Python 3",
   "language": "python",
   "name": "python3"
  },
  "language_info": {
   "codemirror_mode": {
    "name": "ipython",
    "version": 3
   },
   "file_extension": ".py",
   "mimetype": "text/x-python",
   "name": "python",
   "nbconvert_exporter": "python",
   "pygments_lexer": "ipython3",
   "version": "3.8.5"
  }
 },
 "nbformat": 4,
 "nbformat_minor": 4
}
